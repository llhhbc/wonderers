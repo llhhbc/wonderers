{
 "cells": [
  {
   "cell_type": "markdown",
   "metadata": {},
   "source": [
    "## 1.数据结构与算法"
   ]
  },
  {
   "cell_type": "code",
   "execution_count": 102,
   "metadata": {},
   "outputs": [
    {
     "name": "stdout",
     "output_type": "stream",
     "text": [
      "4 5\n",
      "4:5\n",
      "15\n"
     ]
    }
   ],
   "source": [
    "## 解压序列赋值给多个变量\n",
    "\n",
    "p=(4,5)\n",
    "x,y = p\n",
    "\n",
    "print(x,y)\n",
    "print(x,y, sep=':')\n",
    "\n",
    "record = ('a', 'b', 1,2,3,4,5)\n",
    "name, val, *numb = record\n",
    "print(sum(numb))"
   ]
  },
  {
   "cell_type": "code",
   "execution_count": 19,
   "metadata": {},
   "outputs": [
    {
     "name": "stdout",
     "output_type": "stream",
     "text": [
      "foo 1 2\n",
      "bar hello\n",
      "foo 3 4\n"
     ]
    }
   ],
   "source": [
    "records = [\n",
    "    ('foo', 1, 2),\n",
    "    ('bar', 'hello'),\n",
    "    ('foo', 3, 4),\n",
    "]\n",
    "def do_foo(x, y): print('foo', x, y)\n",
    "def do_bar(s): print('bar', s)\n",
    "for tag, *args in records:\n",
    "    if tag == 'foo':\n",
    "        do_foo(*args)\n",
    "    elif tag == 'bar':\n",
    "        do_bar(*args)"
   ]
  },
  {
   "cell_type": "code",
   "execution_count": 15,
   "metadata": {},
   "outputs": [
    {
     "name": "stdout",
     "output_type": "stream",
     "text": [
      "nobody * -2 -2 Unprivileged User /var/empty /usr/bin/false\n"
     ]
    }
   ],
   "source": [
    "line = 'nobody:*:-2:-2:Unprivileged User:/var/empty:/usr/bin/false'\n",
    "uname, *fields, homedir, sh = line.split(':')\n",
    "\n",
    "print(uname, *fields, homedir, sh)"
   ]
  },
  {
   "cell_type": "code",
   "execution_count": 26,
   "metadata": {},
   "outputs": [
    {
     "name": "stdout",
     "output_type": "stream",
     "text": [
      "deque([1, 2, 3], maxlen=3)\n",
      "deque([2, 3, 4], maxlen=3)\n",
      "deque([5, 2, 3], maxlen=3)\n",
      "3\n",
      "5\n",
      "deque([2], maxlen=3)\n"
     ]
    }
   ],
   "source": [
    "# 保存最后n个元素\n",
    "\n",
    "from collections import deque\n",
    "\n",
    "def search(lines, pattern, history=5):\n",
    "    previous_lines = deque(maxlen = history)\n",
    "    for line in lines:\n",
    "        if pattern in line:\n",
    "            yield line, previous_lines\n",
    "        previous_lines.append(line)\n",
    "        \n",
    "q = deque(maxlen=3)\n",
    "q.append(1)\n",
    "q.append(2)\n",
    "q.append(3)\n",
    "print(q)\n",
    "\n",
    "q.append(4)\n",
    "print(q)\n",
    "\n",
    "q.appendleft(5)\n",
    "print(q)\n",
    "\n",
    "print(q.pop())\n",
    "print(q.popleft())\n",
    "print(q)\n"
   ]
  },
  {
   "cell_type": "code",
   "execution_count": 33,
   "metadata": {
    "scrolled": true
   },
   "outputs": [
    {
     "name": "stdout",
     "output_type": "stream",
     "text": [
      "[42, 37, 23]\n",
      "[-4, 1, 2]\n",
      "[{'name': 'YHOO', 'shares': 45, 'price': 16.35}, {'name': 'FB', 'shares': 200, 'price': 21.09}, {'name': 'HPQ', 'shares': 35, 'price': 31.75}]\n",
      "[-4, 2, 1, 23, 7, 2, 18, 23, 42, 37, 8]\n",
      "-4\n"
     ]
    }
   ],
   "source": [
    "# 查找最大或最小N个元素\n",
    "\n",
    "import heapq\n",
    "nums = [1, 8, 2, 23, 7, -4, 18, 23, 42, 37, 2]\n",
    "\n",
    "print(heapq.nlargest(3, nums))\n",
    "print(heapq.nsmallest(3, nums))\n",
    "\n",
    "portfolio = [\n",
    "    {'name': 'IBM', 'shares': 100, 'price': 91.1},\n",
    "    {'name': 'AAPL', 'shares': 50, 'price': 543.22},\n",
    "    {'name': 'FB', 'shares': 200, 'price': 21.09},\n",
    "    {'name': 'HPQ', 'shares': 35, 'price': 31.75},\n",
    "    {'name': 'YHOO', 'shares': 45, 'price': 16.35},\n",
    "    {'name': 'ACME', 'shares': 75, 'price': 115.65}\n",
    "]\n",
    "print( heapq.nsmallest(3, portfolio, key=lambda s: s['price'])) # sort by price\n",
    "\n",
    "heapq.heapify(nums) # 堆排序\n",
    "print(nums)\n",
    "\n",
    "print(heapq.heappop(nums)) # 取出堆中最小的\n"
   ]
  },
  {
   "cell_type": "code",
   "execution_count": 39,
   "metadata": {},
   "outputs": [
    {
     "name": "stdout",
     "output_type": "stream",
     "text": [
      "Item('bar')\n"
     ]
    }
   ],
   "source": [
    "# 优先级队列\n",
    "import heapq\n",
    "\n",
    "class PriorityQueue:\n",
    "    def __init__(self):\n",
    "        self._queue = []\n",
    "        self._index = 0\n",
    "    \n",
    "    def push(self, item, priority):\n",
    "        heapq.heappush(self._queue, (-priority, self._index, item))\n",
    "        self._index += 1\n",
    "    \n",
    "    def pop(self):\n",
    "        return heapq.heappop(self._queue)[-1]\n",
    "'''\n",
    " 在上面代码中，队列包含了一个 (-priority, index, item) 的元组。\n",
    "   优先级为负 数的目的是使得元素按照优先级从高到低排序。这个跟普通的按优先级从低到高排序 的堆排序恰巧相反。\n",
    " index 变量的作用是保证同等优先级元素的正确排序。通过保存一个不断增加的 index 下标变量，\n",
    "   可以确保元素按照它们插入的顺序排序。而且，index 变量也在相同 优先级元素比较的时候起到重要作用。\n",
    "'''\n",
    "\n",
    "\n",
    "class Item:\n",
    "    def __init__(self, name):\n",
    "        self.name = name\n",
    "    def __repr__(self):\n",
    "        return 'Item({!r})'.format(self.name)\n",
    "\n",
    "q = PriorityQueue()\n",
    "q.push(Item('foo'), 1)\n",
    "q.push(Item('bar'), 5)\n",
    "q.push(Item('spam'), 4)\n",
    "q.push(Item('grok'), 1)\n",
    "\n",
    "print(q.pop())\n",
    "\n",
    "\n",
    "\n"
   ]
  },
  {
   "cell_type": "code",
   "execution_count": 42,
   "metadata": {},
   "outputs": [
    {
     "name": "stdout",
     "output_type": "stream",
     "text": [
      "[('eyes', 8), ('the', 5), ('look', 4)]\n"
     ]
    }
   ],
   "source": [
    "# 序列中出现次数最多的元素\n",
    "\n",
    "words = [\n",
    "    'look', 'into', 'my', 'eyes', 'look', 'into', 'my', 'eyes',\n",
    "    'the', 'eyes', 'the', 'eyes', 'the', 'eyes', 'not', 'around', 'the',\n",
    "    'eyes', \"don't\", 'look', 'around', 'the', 'eyes', 'look', 'into',\n",
    "    'my', 'eyes', \"you're\", 'under'\n",
    "]\n",
    "from collections import Counter\n",
    "word_counts = Counter(words)\n",
    "# 出现频率最高的 3 个单词\n",
    "top_three = word_counts.most_common(3)\n",
    "print(top_three)\n",
    "\n"
   ]
  },
  {
   "cell_type": "code",
   "execution_count": 45,
   "metadata": {},
   "outputs": [
    {
     "name": "stdout",
     "output_type": "stream",
     "text": [
      "[{'fname': 'Big', 'lname': 'Jones', 'uid': 1004}, {'fname': 'Brian', 'lname': 'Jones', 'uid': 1003}, {'fname': 'David', 'lname': 'Beazley', 'uid': 1002}, {'fname': 'John', 'lname': 'Cleese', 'uid': 1001}]\n",
      "[{'fname': 'John', 'lname': 'Cleese', 'uid': 1001}, {'fname': 'David', 'lname': 'Beazley', 'uid': 1002}, {'fname': 'Brian', 'lname': 'Jones', 'uid': 1003}, {'fname': 'Big', 'lname': 'Jones', 'uid': 1004}]\n",
      "[{'fname': 'David', 'lname': 'Beazley', 'uid': 1002}, {'fname': 'John', 'lname': 'Cleese', 'uid': 1001}, {'fname': 'Big', 'lname': 'Jones', 'uid': 1004}, {'fname': 'Brian', 'lname': 'Jones', 'uid': 1003}]\n"
     ]
    }
   ],
   "source": [
    "# 根据某个关键字来排序一个字典\n",
    "\n",
    "rows = [\n",
    "    {'fname': 'Brian', 'lname': 'Jones', 'uid': 1003},\n",
    "    {'fname': 'David', 'lname': 'Beazley', 'uid': 1002},\n",
    "    {'fname': 'John', 'lname': 'Cleese', 'uid': 1001},\n",
    "    {'fname': 'Big', 'lname': 'Jones', 'uid': 1004}\n",
    "]\n",
    "\n",
    "from operator import itemgetter\n",
    "rows_by_fname = sorted(rows, key=itemgetter('fname'))\n",
    "rows_by_uid = sorted(rows, key=itemgetter('uid'))\n",
    "print(rows_by_fname)\n",
    "print(rows_by_uid)\n",
    "\n",
    "\n",
    "rows_by_lfname = sorted(rows, key=itemgetter('lname','fname'))\n",
    "print(rows_by_lfname)\n",
    "    "
   ]
  },
  {
   "cell_type": "code",
   "execution_count": 52,
   "metadata": {},
   "outputs": [
    {
     "name": "stdout",
     "output_type": "stream",
     "text": [
      "07/01/2012\n",
      "  {'address': '5412 N CLARK', 'date': '07/01/2012'}\n",
      "  {'address': '4801 N BROADWAY', 'date': '07/01/2012'}\n",
      "07/02/2012\n",
      "  {'address': '5800 E 58TH', 'date': '07/02/2012'}\n",
      "  {'address': '5645 N RAVENSWOOD', 'date': '07/02/2012'}\n",
      "  {'address': '1060 W ADDISON', 'date': '07/02/2012'}\n",
      "07/03/2012\n",
      "  {'address': '2122 N CLARK', 'date': '07/03/2012'}\n",
      "07/04/2012\n",
      "  {'address': '5148 N CLARK', 'date': '07/04/2012'}\n",
      "  {'address': '1039 W GRANVILLE', 'date': '07/04/2012'}\n",
      "{'address': '5412 N CLARK', 'date': '07/01/2012'}\n",
      "{'address': '4801 N BROADWAY', 'date': '07/01/2012'}\n"
     ]
    }
   ],
   "source": [
    "# 通过某个字段将记录分组\n",
    "\n",
    "rows = [\n",
    "    {'address': '5412 N CLARK', 'date': '07/01/2012'},\n",
    "    {'address': '5148 N CLARK', 'date': '07/04/2012'},\n",
    "    {'address': '5800 E 58TH', 'date': '07/02/2012'},\n",
    "    {'address': '2122 N CLARK', 'date': '07/03/2012'},\n",
    "    {'address': '5645 N RAVENSWOOD', 'date': '07/02/2012'},\n",
    "    {'address': '1060 W ADDISON', 'date': '07/02/2012'},\n",
    "    {'address': '4801 N BROADWAY', 'date': '07/01/2012'},\n",
    "    {'address': '1039 W GRANVILLE', 'date': '07/04/2012'},\n",
    "]\n",
    "\n",
    "from operator import itemgetter \n",
    "from itertools import groupby\n",
    "# Sort by the desired field first\n",
    "rows.sort(key=itemgetter('date'))\n",
    "\n",
    "# 一个非常重要的准备步骤是要根据指定的字段将数据排序。\n",
    "# 因为 groupby() 仅仅检查连续的元素，如果事先并没有排序完成的话，分组函数将得不到想要的结果。\n",
    "\n",
    "# Iterate in groups\n",
    "for date, items in groupby(rows, key=itemgetter('date')):\n",
    "    print(date) \n",
    "    for i in items:\n",
    "        print(' ', i)\n",
    "\n",
    "# 手工分组：\n",
    "from collections import defaultdict\n",
    "rows_by_date = defaultdict(list)\n",
    "for row in rows:\n",
    "    rows_by_date[row['date']].append(row)\n",
    "\n",
    "for r in rows_by_date['07/01/2012']:\n",
    "    print(r)\n",
    "    "
   ]
  },
  {
   "cell_type": "code",
   "execution_count": 56,
   "metadata": {},
   "outputs": [
    {
     "name": "stdout",
     "output_type": "stream",
     "text": [
      "Subscriber(addr='jonesy@example.com', joined='2012-10-19')\n",
      "jonesy@example.com\n",
      "jonesy@example.com 2012-10-19\n"
     ]
    }
   ],
   "source": [
    "# 命名元组(命名元组的值是不可直接更改的，可通过_replace变更，会自动创建一个新的元组)\n",
    "\n",
    "from collections import namedtuple\n",
    "Subscriber = namedtuple('Subscriber', ['addr', 'joined'])\n",
    "sub = Subscriber('jonesy@example.com', '2012-10-19')\n",
    "print(sub)\n",
    "print(sub.addr)\n",
    "\n",
    "addr, joined = sub\n",
    "print(addr, joined)"
   ]
  },
  {
   "cell_type": "markdown",
   "metadata": {},
   "source": [
    "## 2.字符串与文本"
   ]
  },
  {
   "cell_type": "code",
   "execution_count": 72,
   "metadata": {},
   "outputs": [
    {
     "name": "stdout",
     "output_type": "stream",
     "text": [
      "['asdf', 'fjdk', 'afed', 'fjek', 'asdf', 'foo']\n",
      "['asdf', 'fjdk', 'afed', 'fjek', 'asdf', 'foo']\n",
      "[' ', ';', ',', ',', ',', '']\n"
     ]
    }
   ],
   "source": [
    "# 正则分隔字符串\n",
    "line = 'asdf  fjdk; afed, fjek,asdf, foo'\n",
    "import re\n",
    "print(re.split(r'[;,\\s]\\s*', line))\n",
    "\n",
    "fields = re.split(r'(;|,|\\s)\\s*', line)  # 将被匹配的结果输出\n",
    "\n",
    "values = fields[::2]\n",
    "print(values)\n",
    "\n",
    "delimiters = fields[1::2] + ['']\n",
    "print(delimiters)\n",
    "\n"
   ]
  },
  {
   "cell_type": "code",
   "execution_count": 75,
   "metadata": {},
   "outputs": [
    {
     "name": "stdout",
     "output_type": "stream",
     "text": [
      "['5412 N CLARK ST', '1060 W ADDISON ST', '2122 N CLARK ST']\n",
      "['5412 N CLARK ST']\n"
     ]
    }
   ],
   "source": [
    "# 匹配字符\n",
    "\n",
    "addresses = [\n",
    "    '5412 N CLARK ST',\n",
    "    '1060 W ADDISON ST',\n",
    "    '1039 W GRANVILLE AVE',\n",
    "    '2122 N CLARK ST',\n",
    "    '4802 N BROADWAY',\n",
    "]\n",
    "\n",
    "from fnmatch import fnmatchcase\n",
    "\n",
    "print( [addr for addr in addresses if fnmatchcase(addr, '* ST')])\n",
    "print([addr for addr in addresses if fnmatchcase(addr, '54[0-9][0-9] *CLARK*')])"
   ]
  },
  {
   "cell_type": "code",
   "execution_count": 78,
   "metadata": {},
   "outputs": [
    {
     "name": "stdout",
     "output_type": "stream",
     "text": [
      "['no.']\n",
      "['no.\" Phone says \"yes.']\n",
      "['no.', 'yes.']\n"
     ]
    }
   ],
   "source": [
    "# 最短匹配模式\n",
    "\n",
    "str_pat = re.compile(r'\\\"(.*)\\\"')\n",
    "text1 = 'Computer says \"no.\"'\n",
    "print(str_pat.findall(text1))\n",
    "\n",
    "text2 = 'Computer says \"no.\" Phone says \"yes.\"'\n",
    "print(str_pat.findall(text2))\n",
    "\n",
    "str_pat_short = re.compile(r'\\\"(.*?)\\\"')  # 最短匹配\n",
    "print(str_pat_short.findall(text2))"
   ]
  },
  {
   "cell_type": "code",
   "execution_count": 82,
   "metadata": {},
   "outputs": [
    {
     "name": "stdout",
     "output_type": "stream",
     "text": [
      "Spicy Jalapeño Spicy Jalapeño False\n",
      "Spicy Jalapeño Spicy Jalapeño True\n",
      "Spicy Jalapeno\n"
     ]
    }
   ],
   "source": [
    "# unicode统一化\n",
    "\n",
    "s1 = 'Spicy Jalape\\u00f1o'\n",
    "s2 = 'Spicy Jalapen\\u0303o'\n",
    "\n",
    "print(s1,s2, s1 == s2)\n",
    "\n",
    "import unicodedata\n",
    "\n",
    "# normalize() 第一个参数指定字符串标准化的方式。\n",
    "# NFC 表示字符应该是整体组 成 (比如可能的话就使用单一编码)，而 NFD 表示字符应该分解为多个组合字符表示\n",
    "#Python 同样支持扩展的标准化形式 NFKC 和 NFKD，它们在处理某些字符的时 候增加了额外的兼容特性\n",
    "t1 = unicodedata.normalize('NFC', s1)\n",
    "t2 = unicodedata.normalize('NFC', s2)\n",
    "print(t1,t2, t1 == t2)\n",
    "\n",
    "t1 = unicodedata.normalize('NFD', s1)\n",
    "#combining() 函数可以测试一个字符是否为和音字符\n",
    "res = ''.join(c for c in t1 if not unicodedata.combining(c))\n",
    "print(res)\n"
   ]
  },
  {
   "cell_type": "code",
   "execution_count": 86,
   "metadata": {},
   "outputs": [
    {
     "name": "stdout",
     "output_type": "stream",
     "text": [
      "pýtĥöñ\f",
      "is\tawesome\n",
      "\n",
      "pýtĥöñ is awesome\n",
      "\n",
      "pýtĥöñ is awesome\n",
      "\n",
      "python is awesome\n",
      "\n"
     ]
    }
   ],
   "source": [
    "# 审查清理文本字符串\n",
    "\n",
    "s = 'pýtĥöñ\\fis\\tawesome\\r\\n'\n",
    "print(s)\n",
    "\n",
    "remap = {\n",
    "  ord('\\t') : ' ',\n",
    "  ord('\\f') : ' ',\n",
    "  ord('\\r') : None # Deleted\n",
    "}\n",
    "a = s.translate(remap)\n",
    "print(a)\n",
    "\n",
    "import unicodedata\n",
    "import sys\n",
    "cmb_chrs = dict.fromkeys(c for c in range(sys.maxunicode) if unicodedata.combining(chr(c)))\n",
    "\n",
    "b = unicodedata.normalize('NFD', a)\n",
    "print(b)\n",
    "print(b.translate(cmb_chrs))\n",
    "    "
   ]
  },
  {
   "cell_type": "code",
   "execution_count": 103,
   "metadata": {},
   "outputs": [
    {
     "name": "stdout",
     "output_type": "stream",
     "text": [
      "[Hello World         ]\n",
      "[         Hello World]\n",
      "[    Hello World     ]\n",
      "[Hello World*********]\n",
      "         Hello World\n",
      "Hello World*********\n",
      "    Hello World     \n",
      "     Hello      World\n"
     ]
    }
   ],
   "source": [
    "# 字符串对齐\n",
    "\n",
    "text = 'Hello World'\n",
    "print('[{}]'.format(text.ljust(20)))\n",
    "print('[{}]'.format(text.rjust(20)))\n",
    "print('[{}]'.format(text.center(20)))\n",
    "\n",
    "print('[{}]'.format(text.ljust(20, '*')))\n",
    "\n",
    "print(format(text, '>20'))\n",
    "print(format(text, '*<20'))\n",
    "print(format(text, '^20'))\n",
    "\n",
    "print('{:>10s} {:>10s}'.format('Hello', 'World'))"
   ]
  },
  {
   "cell_type": "markdown",
   "metadata": {},
   "source": [
    "## 数字日期和时间"
   ]
  },
  {
   "cell_type": "code",
   "execution_count": 114,
   "metadata": {},
   "outputs": [
    {
     "name": "stdout",
     "output_type": "stream",
     "text": [
      "6.300000000000001\n",
      "False\n",
      "6.3\n",
      "True\n",
      "0.7647058823529411764705882353\n",
      "0.765\n",
      "0.7647058823529411764705882353\n"
     ]
    }
   ],
   "source": [
    "# 数学运算\n",
    "\n",
    "a = 4.2\n",
    "b = 2.1\n",
    "print(a+b)\n",
    "print((a+b) == 6.3)\n",
    "\n",
    "from decimal import Decimal\n",
    "from decimal import localcontext\n",
    "\n",
    "a1 = Decimal('4.2')\n",
    "b1 = Decimal('2.1')\n",
    "print(a1+b1)\n",
    "\n",
    "print((a1+b1) == Decimal('6.3'))\n",
    "\n",
    "c = Decimal('1.3') / Decimal('1.7')\n",
    "print(c)\n",
    "\n",
    "with localcontext() as ctx:\n",
    "    ctx.prec = 3\n",
    "    print(Decimal('1.3') / Decimal('1.7'))\n",
    "    print(c)\n",
    "\n"
   ]
  },
  {
   "cell_type": "code",
   "execution_count": 119,
   "metadata": {},
   "outputs": [
    {
     "name": "stdout",
     "output_type": "stream",
     "text": [
      "0b10011010010,0o2322,0x4d2\n",
      "10011010010,2322,4d2\n",
      "1234\n"
     ]
    }
   ],
   "source": [
    "# 进制整数\n",
    "\n",
    "x = 1234\n",
    "print(bin(x), oct(x), hex(x), sep=\",\")\n",
    "\n",
    "print(format(x, 'b'), format(x, 'o'), format(x, 'x'), sep=\",\")\n",
    "\n",
    "print(int('4d2', 16))\n",
    "\n",
    "# 需确保八进制数的前缀是 0o \n",
    "\n"
   ]
  },
  {
   "cell_type": "code",
   "execution_count": 131,
   "metadata": {},
   "outputs": [
    {
     "name": "stdout",
     "output_type": "stream",
     "text": [
      "27/16\n",
      "35/64 35 64 0.546875\n",
      "15/4 3.75\n"
     ]
    }
   ],
   "source": [
    "# 分数运算\n",
    "\n",
    "from fractions import Fraction\n",
    "\n",
    "a = Fraction(5, 4)\n",
    "b = Fraction(7, 16)\n",
    "\n",
    "print(a+b)\n",
    "\n",
    "c = a *b \n",
    "print(c, c.numerator, c.denominator, float(c))\n",
    "\n",
    "x = 3.75\n",
    "y = Fraction(*x.as_integer_ratio())\n",
    "print(y, x)"
   ]
  },
  {
   "cell_type": "code",
   "execution_count": 137,
   "metadata": {},
   "outputs": [
    {
     "name": "stdout",
     "output_type": "stream",
     "text": [
      "2012-10-03 00:00:00\n",
      "2018-07-04 10:55:32.177083\n",
      "2018-07-06 10:55:32.177283\n",
      "2018-06-29 10:55:32.177283\n"
     ]
    }
   ],
   "source": [
    "# 日期\n",
    "\n",
    "from datetime import datetime, timedelta\n",
    "a = datetime(2012, 9, 23)\n",
    "print(a + timedelta(days=10))\n",
    "\n",
    "now = datetime.today()\n",
    "print(now)\n",
    "\n",
    "from datetime import datetime\n",
    "from dateutil.relativedelta import relativedelta \n",
    "from dateutil.rrule import *\n",
    "\n",
    "d = datetime.now()\n",
    "print(d + relativedelta(weekday=FR))\n",
    "    \n",
    "print(d + relativedelta(weekday=FR(-1)))\n"
   ]
  },
  {
   "cell_type": "markdown",
   "metadata": {},
   "source": [
    "## 迭代器与生成器"
   ]
  },
  {
   "cell_type": "code",
   "execution_count": 144,
   "metadata": {},
   "outputs": [
    {
     "name": "stdout",
     "output_type": "stream",
     "text": [
      "# Correctly display UTF-8 with combining characters.\n",
      "if [ \"$TERM_PROGRAM\" = \"Apple_Terminal\" ]; then\n",
      "\tsetopt combiningchars\n",
      "fi\n",
      "\n",
      "disable log\n",
      "\n",
      "[ -r \"/etc/zshrc_$TERM_PROGRAM\" ] && . \"/etc/zshrc_$TERM_PROGRAM\"\n",
      "1\n",
      "2\n"
     ]
    }
   ],
   "source": [
    "# 手动遍布迭代器\n",
    "\n",
    "with open('/etc/zshrc') as f:\n",
    "    while True:\n",
    "        line = next(f, None)\n",
    "        if line is None:\n",
    "            break\n",
    "        print(line, end='')\n",
    "\n",
    "items = [1,2,3]\n",
    "it = iter(items)\n",
    "\n",
    "print(next(it))\n",
    "print(next(it))\n",
    "\n"
   ]
  },
  {
   "cell_type": "code",
   "execution_count": 153,
   "metadata": {},
   "outputs": [
    {
     "name": "stdout",
     "output_type": "stream",
     "text": [
      "<generator object countdown at 0x106074518>\n",
      "Starting to count from  3\n",
      "3\n",
      "2\n",
      "1\n",
      "Done!\n"
     ]
    },
    {
     "ename": "StopIteration",
     "evalue": "",
     "output_type": "error",
     "traceback": [
      "\u001b[0;31m---------------------------------------------------------------------------\u001b[0m",
      "\u001b[0;31mStopIteration\u001b[0m                             Traceback (most recent call last)",
      "\u001b[0;32m<ipython-input-153-53505d6c1eaa>\u001b[0m in \u001b[0;36m<module>\u001b[0;34m()\u001b[0m\n\u001b[1;32m     14\u001b[0m \u001b[0mprint\u001b[0m\u001b[0;34m(\u001b[0m\u001b[0mnext\u001b[0m\u001b[0;34m(\u001b[0m\u001b[0mc\u001b[0m\u001b[0;34m)\u001b[0m\u001b[0;34m)\u001b[0m\u001b[0;34m\u001b[0m\u001b[0m\n\u001b[1;32m     15\u001b[0m \u001b[0mprint\u001b[0m\u001b[0;34m(\u001b[0m\u001b[0mnext\u001b[0m\u001b[0;34m(\u001b[0m\u001b[0mc\u001b[0m\u001b[0;34m)\u001b[0m\u001b[0;34m)\u001b[0m\u001b[0;34m\u001b[0m\u001b[0m\n\u001b[0;32m---> 16\u001b[0;31m \u001b[0mprint\u001b[0m\u001b[0;34m(\u001b[0m\u001b[0mnext\u001b[0m\u001b[0;34m(\u001b[0m\u001b[0mc\u001b[0m\u001b[0;34m)\u001b[0m\u001b[0;34m)\u001b[0m\u001b[0;34m\u001b[0m\u001b[0m\n\u001b[0m",
      "\u001b[0;31mStopIteration\u001b[0m: "
     ]
    }
   ],
   "source": [
    "# 生成器\n",
    "\n",
    "def countdown(n):\n",
    "    print('Starting to count from ', n)\n",
    "    while n > 0:\n",
    "        yield n\n",
    "        n -= 1\n",
    "    print('Done!')\n",
    "\n",
    "c = countdown(3)\n",
    "print(c)\n",
    "\n",
    "print(next(c))\n",
    "print(next(c))\n",
    "print(next(c))\n",
    "print(next(c))\n"
   ]
  },
  {
   "cell_type": "code",
   "execution_count": 159,
   "metadata": {},
   "outputs": [
    {
     "name": "stdout",
     "output_type": "stream",
     "text": [
      "Node(0)\n",
      "Node(1)\n",
      "Node(3)\n",
      "Node(4)\n",
      "Node(2)\n",
      "Node(5)\n"
     ]
    }
   ],
   "source": [
    "# 实现迭代器协议\n",
    "\n",
    "class Node:\n",
    "    def __init__(self, value):\n",
    "        self._value = value\n",
    "        self._children = []\n",
    "        \n",
    "    def __repr__(self):\n",
    "        return 'Node({!r})'.format(self._value)\n",
    "    \n",
    "    def add_child(self,node):\n",
    "        self._children.append(node)\n",
    "    \n",
    "    def __iter__(self):\n",
    "        return iter(self._children)\n",
    "    \n",
    "    def depth_first(self):\n",
    "        yield self\n",
    "        for c in self:\n",
    "            yield from c.depth_first()\n",
    "\n",
    "root = Node(0)\n",
    "child1 = Node(1)\n",
    "child2 = Node(2)\n",
    "root.add_child(child1)\n",
    "root.add_child(child2)\n",
    "child1.add_child(Node(3))\n",
    "child1.add_child(Node(4))\n",
    "child2.add_child(Node(5))\n",
    "\n",
    "for ch in root.depth_first():\n",
    "    print(ch)\n",
    "    "
   ]
  },
  {
   "cell_type": "code",
   "execution_count": 170,
   "metadata": {},
   "outputs": [
    {
     "name": "stdout",
     "output_type": "stream",
     "text": [
      "('a', 'b', 'c')\n",
      "('a', 'c', 'b')\n",
      "('b', 'a', 'c')\n",
      "('b', 'c', 'a')\n",
      "('c', 'a', 'b')\n",
      "('c', 'b', 'a')\n",
      "('a', 'b')\n",
      "('a', 'c')\n",
      "('b', 'c')\n",
      "('a', 'a', 'a')\n",
      "('a', 'a', 'b')\n",
      "('a', 'a', 'c')\n",
      "('a', 'b', 'b')\n",
      "('a', 'b', 'c')\n",
      "('a', 'c', 'c')\n",
      "('b', 'b', 'b')\n",
      "('b', 'b', 'c')\n",
      "('b', 'c', 'c')\n",
      "('c', 'c', 'c')\n"
     ]
    }
   ],
   "source": [
    "# 排列组合\n",
    "items = ['a', 'b', 'c']\n",
    "from itertools import permutations\n",
    "for p in permutations(items): #排列\n",
    "    print(p)\n",
    "\n",
    "from itertools import combinations,combinations_with_replacement\n",
    "for p in combinations(items, 2): #组合\n",
    "    print(p)\n",
    "\n",
    "for c in combinations_with_replacement(items, 3): #可重复排列\n",
    "    print(c)"
   ]
  },
  {
   "cell_type": "code",
   "execution_count": 176,
   "metadata": {},
   "outputs": [
    {
     "name": "stdout",
     "output_type": "stream",
     "text": [
      "2 a\n",
      "3 b\n",
      "4 c\n",
      "0 1 2\n",
      "1 3 4\n",
      "2 5 6\n",
      "3 7 8\n"
     ]
    }
   ],
   "source": [
    "# 计算下标\n",
    "my_list = ['a', 'b', 'c']\n",
    "for idx, val in enumerate(my_list, 2): # 表示从2开始编号\n",
    "    print(idx, val)\n",
    "    \n",
    "data = [ (1, 2), (3, 4), (5, 6), (7, 8) ]\n",
    "for n, (x, y) in enumerate(data):  #一定要加括号\n",
    "    print(n, x,y)\n",
    "    \n"
   ]
  },
  {
   "cell_type": "code",
   "execution_count": 185,
   "metadata": {},
   "outputs": [
    {
     "name": "stdout",
     "output_type": "stream",
     "text": [
      "(1, 'a')\n",
      "(2, 'b')\n",
      "(3, 'c')\n",
      "1 a\n",
      "2 b\n",
      "3 c\n",
      "(1, 'a')\n",
      "(2, 'b')\n",
      "(3, 'c')\n",
      "(None, 'd')\n",
      "1\n",
      "2\n",
      "3\n",
      "a\n",
      "b\n",
      "c\n",
      "d\n"
     ]
    }
   ],
   "source": [
    "# 多个序列迭代\n",
    "\n",
    "a = [1,2,3]\n",
    "b = ['a', 'b', 'c', 'd']\n",
    "\n",
    "for i in zip(a,b):\n",
    "    print(i)\n",
    "\n",
    "for ia, ib in zip(a,b):\n",
    "    print(ia, ib)\n",
    "    \n",
    "from itertools import zip_longest\n",
    "for i in zip_longest(a,b):\n",
    "    print(i)\n",
    "\n",
    "from itertools import chain\n",
    "for x in chain(a, b):  #这种比直接a+b要高效\n",
    "    print(x)"
   ]
  },
  {
   "cell_type": "code",
   "execution_count": 189,
   "metadata": {},
   "outputs": [
    {
     "name": "stdout",
     "output_type": "stream",
     "text": [
      "1\n",
      "2\n",
      "3\n",
      "4\n",
      "5\n",
      "6\n",
      "7\n",
      "8\n"
     ]
    }
   ],
   "source": [
    "# 展开嵌套的序列\n",
    "\n",
    "from collections import Iterable\n",
    "\n",
    "def flatten(items, ignore_types=(str, bytes)):\n",
    "    for x in items:\n",
    "        if isinstance(x, Iterable) and not isinstance(x, ignore_types):\n",
    "            yield from flatten(x)\n",
    "        else:\n",
    "            yield x\n",
    "            \n",
    "items = [1, 2, [3, 4, [5, 6], 7], 8]\n",
    "\n",
    "for x in flatten(items):\n",
    "    print(x)\n",
    "    \n",
    "    "
   ]
  },
  {
   "cell_type": "markdown",
   "metadata": {},
   "source": [
    "## 文件与IO"
   ]
  },
  {
   "cell_type": "code",
   "execution_count": 194,
   "metadata": {},
   "outputs": [],
   "source": [
    "# with open('somefile.txt', 'rt', encoding='utf-8', newline='\\r', errors='ignore') as f:\n",
    "#     ...\n",
    "\n",
    "    "
   ]
  },
  {
   "cell_type": "code",
   "execution_count": 200,
   "metadata": {},
   "outputs": [
    {
     "name": "stdout",
     "output_type": "stream",
     "text": [
      "[1, 2, 3, 4]\n",
      "hello\n",
      "{'pear', 'banana', 'apple'}\n"
     ]
    }
   ],
   "source": [
    "# 序列化py对象\n",
    "\n",
    "import pickle\n",
    "\n",
    "f = open('/tmp/somedata', 'wb')\n",
    "\n",
    "pickle.dump([1,2,3,4], f)\n",
    "pickle.dump('hello', f)\n",
    "pickle.dump({'apple', 'pear', 'banana'}, f)\n",
    "\n",
    "f.close()\n",
    "\n",
    "f = open('/tmp/somedata', 'rb')\n",
    "print(pickle.load(f))\n",
    "print(pickle.load(f))\n",
    "print(pickle.load(f))\n",
    "f.close()\n",
    "\n",
    "\n",
    "# 千万不要对不信任的数据使用 pickle.load()。\n",
    "# pickle 在加载时有一个副作用就是它会自动加载相应模块并构造实例对象。 \n",
    "# 但是某个坏人如果知道 pickle 的工作原理， 他就可以创建一个恶意的数据导致 Python 执行随意指定的系统命令。 \n",
    "# 因此，一定要保证 pickle 只在相互之间可以认证对方的解析器的内部使用。\n",
    "\n",
    "# 有些类型的对象是不能被序列化的。这些通常是那些依赖外部系统状态的对象， \n",
    "# 比如打开的文件，网络连接，线程，进程，栈帧等等。\n",
    "# 用户自定义类可以通过提供 __getstate__() 和 __setstate__() 方法来绕过这些限制。\n",
    "# 如果定义了这两个方法， pickle.dump() 就会调用 __getstate__() 获取序列化的对象。\n",
    "# 类似的，__setstate__() 在反序列化时被调用\n",
    "\n",
    "import time\n",
    "import threading\n",
    "class Countdown:\n",
    "    def __init__(self, n):\n",
    "        self.n = n\n",
    "        self.thr = threading.Thread(target=self.run)\n",
    "        self.thr.daemon = True\n",
    "        self.thr.start()\n",
    "    def run(self):\n",
    "        while self.n > 0:\n",
    "            print('T-minus', self.n)\n",
    "            self.n -= 1\n",
    "            time.sleep(5)\n",
    "    def __getstate__(self):\n",
    "        return self.n\n",
    "    def __setstate__(self, n):\n",
    "        self.__init__(n)\n",
    "    \n",
    "    "
   ]
  },
  {
   "cell_type": "markdown",
   "metadata": {},
   "source": [
    "## 数据编码和处理"
   ]
  },
  {
   "cell_type": "code",
   "execution_count": 209,
   "metadata": {},
   "outputs": [
    {
     "name": "stdout",
     "output_type": "stream",
     "text": [
      "Row(Symbol='AA', Price='39.48', Date='6/11/2007', Time='9:36am', Change='-0.18', Volume='181800')\n",
      "Row(Symbol='AIG', Price='71.38', Date='6/11/2007', Time='9:36am', Change='-0.15', Volume='195500')\n",
      "Row(Symbol='AXP', Price='62.58', Date='6/11/2007', Time='9:36am', Change='-0.46', Volume='935000')\n",
      "Row(Symbol='BA', Price='98.31', Date='6/11/2007', Time='9:36am', Change='+0.12', Volume='104800')\n",
      "Row(Symbol='C', Price='53.08', Date='6/11/2007', Time='9:36am', Change='-0.25', Volume='360900')\n",
      "Row(Symbol='CAT', Price='78.29', Date='6/11/2007', Time='9:36am', Change='-0.23', Volume='225400')\n",
      "OrderedDict([('Symbol', 'AA'), ('Price', 39.48), ('Date', '6/11/2007'), ('Time', '9:36am'), ('Change', -0.18), ('Volume', 181800)])\n",
      "OrderedDict([('Symbol', 'AIG'), ('Price', 71.38), ('Date', '6/11/2007'), ('Time', '9:36am'), ('Change', -0.15), ('Volume', 195500)])\n",
      "OrderedDict([('Symbol', 'AXP'), ('Price', 62.58), ('Date', '6/11/2007'), ('Time', '9:36am'), ('Change', -0.46), ('Volume', 935000)])\n",
      "OrderedDict([('Symbol', 'BA'), ('Price', 98.31), ('Date', '6/11/2007'), ('Time', '9:36am'), ('Change', 0.12), ('Volume', 104800)])\n",
      "OrderedDict([('Symbol', 'C'), ('Price', 53.08), ('Date', '6/11/2007'), ('Time', '9:36am'), ('Change', -0.25), ('Volume', 360900)])\n",
      "OrderedDict([('Symbol', 'CAT'), ('Price', 78.29), ('Date', '6/11/2007'), ('Time', '9:36am'), ('Change', -0.23), ('Volume', 225400)])\n"
     ]
    }
   ],
   "source": [
    "# 读csv文件\n",
    "import csv\n",
    "from collections import namedtuple\n",
    "\n",
    "with open('stocks.csv') as f:\n",
    "    f_csv = csv.reader(f)\n",
    "#     f_csv = csv.reader(f, delimiter='\\t') # use tab\n",
    "    headers = next(f_csv)\n",
    "    \n",
    "#     for row in f_csv:\n",
    "#         print(row)\n",
    "    \n",
    "    # 使用命名元组\n",
    "    Row = namedtuple('Row', headers)\n",
    "    for r in f_csv:\n",
    "        row = Row(*r)\n",
    "        print(row)\n",
    "\n",
    "#数据类型转换\n",
    "\n",
    "field_types = [ ('Price', float),\n",
    "                ('Change', float),\n",
    "                ('Volume', int) ]\n",
    "\n",
    "with open('stocks.csv') as f:\n",
    "    for row in csv.DictReader(f):\n",
    "        row.update((key, conversion(row[key]))\n",
    "                  for key, conversion in field_types)\n",
    "        print(row)\n",
    "    \n",
    "# 还可以使用pandas.read_csv()\n"
   ]
  },
  {
   "cell_type": "code",
   "execution_count": 216,
   "metadata": {},
   "outputs": [
    {
     "name": "stdout",
     "output_type": "stream",
     "text": [
      "{\"name\": \"adsfas\", \"shares\": 100, \"price\": 542.34}\n",
      "{'name': 'adsfas', 'shares': 100, 'price': 542.34}\n",
      "{'name': 'adsfas', 'price': 542.34, 'shares': 100}\n"
     ]
    }
   ],
   "source": [
    "# read json\n",
    "\n",
    "import json\n",
    "from pprint import pprint # 它会按 照 key 的字母顺序并以一种更加美观的方式输出\n",
    "\n",
    "data = {\n",
    "    'name' : 'adsfas',\n",
    "    'shares' : 100,\n",
    "    'price' : 542.34\n",
    "}\n",
    "\n",
    "json_str = json.dumps(data)\n",
    "print(json_str)\n",
    "\n",
    "data = json.loads(json_str)\n",
    "print(data)\n",
    "pprint(data)\n",
    "\n",
    "# from urllib.request import urlopen\n",
    "# u = urlopen('http://search.twitter.com/search.json?q=python&rpp=5')\n",
    "# resp = json.loads(u.read().decode('utf-8'))\n",
    "# pprint(resp)\n",
    "\n"
   ]
  },
  {
   "cell_type": "code",
   "execution_count": 221,
   "metadata": {},
   "outputs": [
    {
     "name": "stdout",
     "output_type": "stream",
     "text": [
      "Stories in My Pocket: On being an expert\n",
      "Tue, 03 Jul 2018 19:47:26 +0000\n",
      "https://storiesinmypocket.com/articles/being-expert/\n",
      "\n",
      "Import Python: Python Updates this week\n",
      "Tue, 03 Jul 2018 18:56:04 +0000\n",
      "http://importpython.com/blog/post/python-updates-week\n",
      "\n",
      "Stack Abuse: Converting Strings to datetime in Python\n",
      "Tue, 03 Jul 2018 17:49:26 +0000\n",
      "http://stackabuse.com/converting-strings-to-datetime-in-python/\n",
      "\n",
      "Dataquest: Basic Statistics in Python: Descriptive Statistics\n",
      "Tue, 03 Jul 2018 12:00:00 +0000\n",
      "https://www.dataquest.io/blog/basic-statistics-with-python-descriptive-statistics/\n",
      "\n",
      "EuroPython Society: EuroPython 2018: Schedule available\n",
      "Tue, 03 Jul 2018 11:01:03 +0000\n",
      "https://www.europython-society.org/post/175503227985\n",
      "\n",
      "EuroPython: EuroPython 2018: Schedule available\n",
      "Tue, 03 Jul 2018 10:45:09 +0000\n",
      "https://blog.europython.eu/post/175502948797\n",
      "\n",
      "eGenix.com: Python Meeting Düsseldorf - 2018-07-04\n",
      "Tue, 03 Jul 2018 08:00:00 +0000\n",
      "https://www.egenix.com/company/news/Python-Meeting-Duesseldorf-2018-07-04\n",
      "\n",
      "Programiz: Python 3 Tutorial\n",
      "Tue, 03 Jul 2018 07:22:28 +0000\n",
      "https://www.programiz.com/python-programming/tutorial\n",
      "\n",
      "Yasoob Khalid: Practical Python Projects Book\n",
      "Mon, 02 Jul 2018 22:21:45 +0000\n",
      "https://pythontips.com/2018/07/02/practical-python-projects-book/\n",
      "\n",
      "Zato Blog: Zato 3.0 release announcement\n",
      "Mon, 02 Jul 2018 14:54:00 +0000\n",
      "https://zato.io/blog/posts/zato-3.0-released.html\n",
      "\n",
      "Continuum Analytics Blog: Anaconda and Full Spectrum Analytics Partner to Deliver Enterprise Data Science to Banks, Lenders, and Investments Firms\n",
      "Mon, 02 Jul 2018 14:42:41 +0000\n",
      "https://www.anaconda.com/blog/developer-blog/anaconda-full-spectrum-analytics-partner-deliver-enterprise-data-science-banks-lenders-investments-firms/\n",
      "\n",
      "Real Python: Python Histogram Plotting: NumPy, Matplotlib, Pandas &amp; Seaborn\n",
      "Mon, 02 Jul 2018 14:00:00 +0000\n",
      "https://realpython.com/python-histograms/\n",
      "\n",
      "Chris Moffitt: Automating Windows Applications Using COM\n",
      "Mon, 02 Jul 2018 11:15:00 +0000\n",
      "http://pbpython.com/windows-com.html\n",
      "\n",
      "RoseHosting Blog: How To Install the Anaconda Python Distribution on Ubuntu 16.04\n",
      "Mon, 02 Jul 2018 10:08:22 +0000\n",
      "https://www.rosehosting.com/blog/how-to-install-the-anaconda-python-distribution-on-ubuntu-16-04/\n",
      "\n",
      "EuroPython Society: EuroPython 2018: Community Discounts\n",
      "Mon, 02 Jul 2018 07:37:17 +0000\n",
      "https://www.europython-society.org/post/175465283575\n",
      "\n",
      "EuroPython Society: EuroPython 2018: Inviting European Python Conference Organizers\n",
      "Mon, 02 Jul 2018 07:37:12 +0000\n",
      "https://www.europython-society.org/post/175465282330\n",
      "\n",
      "Django Weblog: Django bugfix releases: 2.0.7 and 1.11.14\n",
      "Mon, 02 Jul 2018 07:14:36 +0000\n",
      "https://www.djangoproject.com/weblog/2018/jul/02/bugfix-releases/\n",
      "\n",
      "Mike Driscoll: PyDev of the Week: Ricky White\n",
      "Mon, 02 Jul 2018 05:05:13 +0000\n",
      "http://www.blog.pythonlibrary.org/2018/07/02/pydev-of-the-week-ricky-white/\n",
      "\n",
      "Mike Driscoll: Python 101 Screencast: Episode #14 – The configparser module\n",
      "Sun, 01 Jul 2018 18:58:26 +0000\n",
      "http://www.blog.pythonlibrary.org/2018/07/01/python-101-screencast-episode-14-the-configparser-module/\n",
      "\n",
      "EuroPython: EuroPython 2018: Community Discounts\n",
      "Sun, 01 Jul 2018 12:53:42 +0000\n",
      "https://blog.europython.eu/post/175435749712\n",
      "\n",
      "EuroPython: EuroPython 2018: Inviting European Python Conference Organizers\n",
      "Sun, 01 Jul 2018 12:46:31 +0000\n",
      "https://blog.europython.eu/post/175435613817\n",
      "\n",
      "Tryton News: Newsletter July 2018\n",
      "Sun, 01 Jul 2018 08:00:13 +0000\n",
      "https://discuss.tryton.org/t/newsletter-july-2018/589\n",
      "\n",
      "Sandipan Dey: Detection of a Human Object with HOG Descriptor Features using SVM (Primal QuadProg implementation using CVXOPT) in Python\n",
      "Sat, 30 Jun 2018 22:50:46 +0000\n",
      "\n",
      "\n",
      "Weekly Python StackOverflow Report: (cxxxii) stackoverflow python report\n",
      "Sat, 30 Jun 2018 20:46:00 +0000\n",
      "http://python-weekly.blogspot.com/2018/06/cxxxii-stackoverflow-python-report.html\n",
      "\n",
      "Artem Golubin: How virtual environment  libraries work in Python\n",
      "Sat, 30 Jun 2018 11:59:49 +0000\n",
      "http://rushter.com/blog/python-virtualenv/\n",
      "\n"
     ]
    }
   ],
   "source": [
    "# read xml\n",
    "\n",
    "from urllib.request import urlopen \n",
    "from xml.etree.ElementTree import parse\n",
    "# Download the RSS feed and parse it\n",
    "u = urlopen('http://planet.python.org/rss20.xml')\n",
    "doc = parse(u)\n",
    "\n",
    "# Extract and output tags of interest\n",
    "for item in doc.iterfind('channel/item'): \n",
    "    title = item.findtext('title')\n",
    "    date = item.findtext('pubDate')\n",
    "    link = item.findtext('link')\n",
    "    print(title) \n",
    "    print(date) \n",
    "    print(link) \n",
    "    print()"
   ]
  },
  {
   "cell_type": "code",
   "execution_count": 226,
   "metadata": {},
   "outputs": [
    {
     "name": "stdout",
     "output_type": "stream",
     "text": [
      "b'68656c6c6f'\n",
      "b'hello'\n",
      "b'68656C6C6F'\n",
      "b'hello'\n",
      "b'aGVsbG8='\n",
      "b'hello'\n"
     ]
    }
   ],
   "source": [
    "# hex to ascii\n",
    "import binascii\n",
    "\n",
    "s = b'hello'\n",
    "h = binascii.b2a_hex(s)\n",
    "print(h)\n",
    "\n",
    "print(binascii.a2b_hex(h))\n",
    "\n",
    "import base64\n",
    "h = base64.b16encode(s)\n",
    "print(h)\n",
    "\n",
    "print(base64.b16decode(h))\n",
    "\n",
    "# 函数 base64.b16decode() 和 base64.b16encode() 只能 操作大写形式的十六进制字母，\n",
    "# 而 binascii 模块中的函数大小写都能处理\n",
    "\n",
    "a = base64.b64encode(s)\n",
    "print(a)\n",
    "\n",
    "print(base64.b64decode(a))"
   ]
  },
  {
   "cell_type": "code",
   "execution_count": 227,
   "metadata": {
    "collapsed": true
   },
   "outputs": [],
   "source": [
    "## 函数"
   ]
  },
  {
   "cell_type": "code",
   "execution_count": 232,
   "metadata": {},
   "outputs": [
    {
     "name": "stdout",
     "output_type": "stream",
     "text": [
      "Help on function add in module __main__:\n",
      "\n",
      "add(x:int, y:int) -> int\n",
      "\n"
     ]
    }
   ],
   "source": [
    "\n",
    "#函数强制关键字\n",
    "\n",
    "def recv(maxsize, *, block):\n",
    "    pass\n",
    "\n",
    "msg = recv(1024, block=False)\n",
    "\n",
    "\n",
    "# 函数元信息\n",
    "\n",
    "\n",
    "def add(x:int, y:int) -> int:\n",
    "    return x + y\n",
    "\n",
    "help(add)"
   ]
  },
  {
   "cell_type": "code",
   "execution_count": 236,
   "metadata": {},
   "outputs": [
    {
     "name": "stdout",
     "output_type": "stream",
     "text": [
      "30\n",
      "30\n",
      "25\n",
      "30\n",
      "4\n",
      "4\n",
      "4\n",
      "4\n",
      "4\n",
      "0\n",
      "1\n",
      "2\n",
      "3\n",
      "4\n"
     ]
    }
   ],
   "source": [
    "# 匿名函数\n",
    "x = 15\n",
    "a = lambda y: x+y\n",
    "x = 20\n",
    "b = lambda y: x+y\n",
    "\n",
    "print(a(10))\n",
    "print(b(10))\n",
    "\n",
    "# lambda 表达式中的 x 是一个自由变量，在运行时绑定值\n",
    "\n",
    "#如果你想让某个匿名函数在定义时就捕获到值，可以将那个参数值定义成默认参 数即可\n",
    "x = 15\n",
    "a = lambda y, x=x: x+y\n",
    "x = 20\n",
    "b = lambda y, x=x: x+y\n",
    "print(a(10))\n",
    "print(b(10))\n",
    "\n",
    "\n",
    "funcs = [lambda x: x+n for n in range(5)]\n",
    "for f in funcs:\n",
    "    print(f(0))\n",
    "\n",
    "funcs = [lambda x, n=n: x+n for n in range(5)]\n",
    "for f in funcs:\n",
    "    print(f(0))"
   ]
  },
  {
   "cell_type": "code",
   "execution_count": 242,
   "metadata": {},
   "outputs": [
    {
     "name": "stdout",
     "output_type": "stream",
     "text": [
      "11 2 3 4\n",
      "1 2 3 42\n",
      "1 2 33 42\n"
     ]
    }
   ],
   "source": [
    "# 设置函数参数\n",
    "\n",
    "def spam(a, b, c, d): \n",
    "    print(a, b, c, d)\n",
    "     \n",
    "from functools import partial\n",
    "s1 = partial(spam, 11)\n",
    "s1(2,3,4)\n",
    "\n",
    "s2 = partial(spam, d=42)\n",
    "s2(1,2,3)\n",
    "\n",
    "s3 = partial(spam, 1,2,d=42)\n",
    "s3(33)\n",
    "\n"
   ]
  },
  {
   "cell_type": "code",
   "execution_count": 243,
   "metadata": {
    "collapsed": true
   },
   "outputs": [],
   "source": [
    "## 类与对象"
   ]
  },
  {
   "cell_type": "code",
   "execution_count": 253,
   "metadata": {},
   "outputs": [
    {
     "name": "stdout",
     "output_type": "stream",
     "text": [
      "(3, 4)\n",
      "p is Pair(3, 4)\n",
      "p is (3, 4)\n"
     ]
    }
   ],
   "source": [
    "# 类显示格式化\n",
    "class Pair:\n",
    "    def __init__(self, x,y):\n",
    "        self.x = x\n",
    "        self.y = y\n",
    "    def __repr__(self):\n",
    "        return 'Pair({0.x!r}, {0.y!r})'.format(self)\n",
    "    def __str__(self):\n",
    "        return '({0.x!s}, {0.y!s})'.format(self)\n",
    "\n",
    "p = Pair(3,4)\n",
    "print(p)  # __str__() output\n",
    "\n",
    "p  # __repr__() output\n",
    "\n",
    "print('p is {0!r}'.format(p)) # __repr__() output\n",
    "print('p is {0}'.format(p))\n",
    "\n",
    "#如果 __str__() 没有被定义，那么就会使用 __repr__() 来代替输出\n",
    "\n"
   ]
  },
  {
   "cell_type": "code",
   "execution_count": 260,
   "metadata": {},
   "outputs": [
    {
     "name": "stdout",
     "output_type": "stream",
     "text": [
      "2018-7-17\n",
      "7/17/2018\n",
      "The date is 17/7/2018\n"
     ]
    }
   ],
   "source": [
    "# 字符串格式化\n",
    "\n",
    "_formats = {\n",
    "    'ymd' : '{d.year}-{d.month}-{d.day}',\n",
    "    'mdy' : '{d.month}/{d.day}/{d.year}',\n",
    "    'dmy' : '{d.day}/{d.month}/{d.year}'\n",
    "}\n",
    "\n",
    "class Date:\n",
    "    def __init__(self, year, month, day):\n",
    "        self.year = year\n",
    "        self.month = month\n",
    "        self.day = day\n",
    "    \n",
    "    def __format__(self, code):\n",
    "        if code == '':\n",
    "            code = 'ymd'\n",
    "        fmt = _formats[code]\n",
    "        return fmt.format(d=self)\n",
    "\n",
    "d = Date(2018, 7, 17)\n",
    "print(format(d))\n",
    "\n",
    "print(format(d, 'mdy'))\n",
    "\n",
    "print('The date is {:dmy}'.format(d))"
   ]
  },
  {
   "cell_type": "code",
   "execution_count": 261,
   "metadata": {
    "collapsed": true
   },
   "outputs": [],
   "source": [
    "# 让对象支持上下文管理协议\n",
    "\n",
    "# 为了让一个对象兼容 with 语句，你需要实现 __enter__() 和 __exit__() 方法\n",
    "\n",
    "#如果你请求了一个锁，那么你必须确保之后释放了它，否则就可能产生 死锁。\n",
    "# 通过实现 __enter__() 和 __exit__() 方法并使用 with 语句可以很容易的避免 这些问题，因为 __exit__() 方法可以让你无需担心这些了\n",
    "\n"
   ]
  },
  {
   "cell_type": "code",
   "execution_count": 281,
   "metadata": {},
   "outputs": [
    {
     "name": "stdout",
     "output_type": "stream",
     "text": [
      " setter called \n",
      " getter called \n",
      "Guido\n",
      " setter called \n",
      " getter called \n",
      "Hi\n",
      "CC\n",
      "CC\n",
      "200\n"
     ]
    }
   ],
   "source": [
    "# 属性管理\n",
    "\n",
    "class Person:\n",
    "    def __init__(self, first_name):\n",
    "        self.first_name = first_name  #will call first_name.setter\n",
    "    \n",
    "    @property\n",
    "    def first_name(self):\n",
    "        print(' getter called ')\n",
    "        return self._first_name\n",
    "\n",
    "    @first_name.setter\n",
    "    def first_name(self, value):\n",
    "        print(' setter called ')\n",
    "        if not isinstance(value, str):\n",
    "            raise TypeError('Expected a string')\n",
    "        self._first_name = value\n",
    "    \n",
    "    @first_name.deleter\n",
    "    def first_name(self):\n",
    "        raise AttributeError(\"Can't delete attribute\")\n",
    "\n",
    "a = Person('Guido')\n",
    "print(a.first_name)\n",
    "\n",
    "class Person2:\n",
    "    def __init__(self, first_name):\n",
    "        self.set_first_name(first_name)  #will call first_name.setter\n",
    "    \n",
    "    def get_first_name(self):\n",
    "        print(' getter called ')\n",
    "        return self._first_name\n",
    "\n",
    "    def set_first_name(self, value):\n",
    "        print(' setter called ')\n",
    "        if not isinstance(value, str):\n",
    "            raise TypeError('Expected a string')\n",
    "        self._first_name = value\n",
    "    \n",
    "    def del_first_name(self):\n",
    "        raise AttributeError(\"Can't delete attribute\")\n",
    "    \n",
    "    name = property(get_first_name, set_first_name, del_first_name)\n",
    "\n",
    "b = Person2('Hi')\n",
    "print(b.name)\n",
    "\n",
    "\n",
    "class Person3:\n",
    "    def __init__(self, rname):\n",
    "        self.rname = rname\n",
    "    @property\n",
    "    def rr(self):\n",
    "        return self.rname\n",
    "    \n",
    "c = Person3('CC')\n",
    "print(c.rname)\n",
    "print(c.rr)\n",
    "\n",
    "# c.rr = '100'\n",
    "c.rname = '200'\n",
    "print(c.rr)\n"
   ]
  },
  {
   "cell_type": "code",
   "execution_count": 284,
   "metadata": {},
   "outputs": [
    {
     "name": "stdout",
     "output_type": "stream",
     "text": [
      "Base.__init__\n",
      "B.__init__\n",
      "A.__init__\n",
      "C.__init__\n",
      "<__main__.C object at 0x107ea6d68>\n",
      "(<class '__main__.C'>, <class '__main__.A'>, <class '__main__.B'>, <class '__main__.Base'>, <class 'object'>)\n"
     ]
    }
   ],
   "source": [
    "# 类的继承\n",
    "\n",
    "class Base:\n",
    "    def __init__(self):\n",
    "        print('Base.__init__')\n",
    "class A(Base):\n",
    "    def __init__(self):\n",
    "        super().__init__() \n",
    "        print('A.__init__')\n",
    "class B(Base):\n",
    "    def __init__(self):\n",
    "        super().__init__() \n",
    "        print('B.__init__')\n",
    "class C(A,B):\n",
    "    def __init__(self):\n",
    "        super().__init__() # Only one call to super() here \n",
    "        print('C.__init__')\n",
    "\n",
    "print(C())\n",
    "\n",
    "print(C.__mro__)\n"
   ]
  },
  {
   "cell_type": "code",
   "execution_count": 289,
   "metadata": {},
   "outputs": [
    {
     "name": "stdout",
     "output_type": "stream",
     "text": [
      "3\n",
      "{'x': 3, 'y': 5}\n"
     ]
    }
   ],
   "source": [
    "# 创建新的类或实例属性\n",
    "\n",
    "class Integer:  #描述器类\n",
    "    def __init__(self, name):\n",
    "        self.name = name\n",
    "    #__get__() 看上去有点复杂的原因归结于实例变量和类变量的不同。\n",
    "#     如果一个描述 器被当做一个类变量来访问，那么 instance 参数被设置成 None \n",
    "    def __get__(self, instance, cls): \n",
    "        if instance is None:\n",
    "            return self\n",
    "        else:\n",
    "            return instance.__dict__[self.name]\n",
    "    def __set__(self, instance, value): \n",
    "        if not isinstance(value, int):\n",
    "            raise TypeError('Expected an int') \n",
    "        instance.__dict__[self.name] = value\n",
    "    def __delete__(self, instance):\n",
    "        del instance.__dict__[self.name]\n",
    "        \n",
    "\n",
    "class Point:\n",
    "    x = Integer('x') \n",
    "    y = Integer('y')\n",
    "    def __init__(self, x, y): \n",
    "        self.x = x\n",
    "        self.y = y\n",
    "        \n",
    "p = Point(3,2)\n",
    "print(p.x)\n",
    "\n",
    "p.y  = 5\n",
    "\n",
    "print(vars(p))"
   ]
  },
  {
   "cell_type": "code",
   "execution_count": 295,
   "metadata": {},
   "outputs": [
    {
     "name": "stdout",
     "output_type": "stream",
     "text": [
      "{'name': 'AC', 'shares': 50, 'price': 91.1}\n",
      "{'x': 2, 'y': 3}\n",
      "{'name': 'B', 'price': 20, 'msg': 'this is b'}\n"
     ]
    }
   ],
   "source": [
    "# 简化数据结构的初始化\n",
    "\n",
    "class Structure1:\n",
    "    _fields = []\n",
    "    \n",
    "    def __init__(self, *args):\n",
    "        if len(args) != len(self._fields):\n",
    "            raise TypeError('Expected {} arguments'.format(len(self._fields)))\n",
    "        for name, value in zip(self._fields, args):\n",
    "            setattr(self, name, value)\n",
    "\n",
    "class Stock(Structure1):\n",
    "    _fields = ['name', 'shares', 'price']\n",
    "\n",
    "class Point(Structure1):\n",
    "    _fields = ['x', 'y']\n",
    "\n",
    "s = Stock('AC', 50, 91.1)\n",
    "print(vars(s))\n",
    "\n",
    "p = Point(2,3)\n",
    "print(vars(p))\n",
    "\n",
    "\n",
    "## 用带关键字的扩展\n",
    "class Structure3:\n",
    "    # Class variable that specifies expected fields _fields = []\n",
    "    def __init__(self, *args, **kwargs): \n",
    "        if len(args) != len(self._fields):\n",
    "            raise TypeError('Expected {} arguments'.format(len(self._fields)))\n",
    "            \n",
    "        # Set the arguments\n",
    "        for name, value in zip(self._fields, args):\n",
    "            setattr(self, name, value)\n",
    "            \n",
    "        # Set the additional arguments (if any)\n",
    "        extra_args = kwargs.keys() - self._fields \n",
    "        for name in extra_args:\n",
    "            setattr(self, name, kwargs.pop(name))\n",
    "            \n",
    "        if kwargs:\n",
    "            raise TypeError('Duplicate values for {}'.format(','.join(kwargs)))\n",
    "\n",
    "class SStock(Structure3):\n",
    "    _fields = ['name', 'price']\n",
    "\n",
    "s1 = SStock('A', 10)\n",
    "s2 = SStock('B', 20, msg = 'this is b')\n",
    "print(vars(s2))"
   ]
  },
  {
   "cell_type": "code",
   "execution_count": 298,
   "metadata": {},
   "outputs": [
    {
     "name": "stdout",
     "output_type": "stream",
     "text": [
      "Setting x = 23\n",
      "Getting x\n",
      "23\n"
     ]
    }
   ],
   "source": [
    "# MIXIN 混入类\n",
    "\n",
    "class LoggedMappingMixin: \n",
    "    \"\"\"\n",
    "    Add logging to get/set/delete operations for debugging.\n",
    "    \"\"\"\n",
    "    __slots__ = () # 混入类都没有实例变量，因为直接实例化混入类没有任何意义\n",
    "    def __getitem__(self, key): \n",
    "        print('Getting ' + str(key)) \n",
    "        return super().__getitem__(key)\n",
    "    def __setitem__(self, key, value): \n",
    "        print('Setting {} = {!r}'.format(key, value)) \n",
    "        return super().__setitem__(key, value)\n",
    "    def __delitem__(self, key): \n",
    "        print('Deleting ' + str(key)) \n",
    "        return super().__delitem__(key)\n",
    "    \n",
    "class SetOnceMappingMixin: \n",
    "    '''\n",
    "    Only allow a key to be set once. \n",
    "    '''\n",
    "    __slots__ = ()\n",
    "    def __setitem__(self, key, value): \n",
    "        if key in self:\n",
    "            raise KeyError(str(key) + ' already set')\n",
    "        return super().__setitem__(key, value)\n",
    "\n",
    "class StringKeysMappingMixin:\n",
    "    '''\n",
    "    Restrict keys to strings only\n",
    "    '''\n",
    "\n",
    "    __slots__ = ()\n",
    "    def __setitem__(self, key, value): \n",
    "        if not isinstance(key, str):\n",
    "            raise TypeError('keys must be strings') \n",
    "        return super().__setitem__(key, value)\n",
    "\n",
    "class LoggedDict(LoggedMappingMixin, dict): \n",
    "    pass\n",
    "\n",
    "d = LoggedDict()\n",
    "d['x'] = 23\n",
    "print(d['x'])\n",
    "\n"
   ]
  },
  {
   "cell_type": "code",
   "execution_count": 306,
   "metadata": {},
   "outputs": [
    {
     "name": "stdout",
     "output_type": "stream",
     "text": [
      "3.605551275463989\n",
      "3.605551275463989\n",
      "[Point(1,2), Point(3,0), Point(3,2), Point(-1,8), Point(-5,-7), Point(10,-3)]\n"
     ]
    }
   ],
   "source": [
    "# 根据名称调用对象方法\n",
    "\n",
    "import math\n",
    "class Point:\n",
    "    def __init__(self, x, y):\n",
    "            self.x = x\n",
    "            self.y = y\n",
    "    def __repr__(self):\n",
    "        return 'Point({!r:},{!r:})'.format(self.x, self.y)\n",
    "    def distance(self, x, y):\n",
    "        return math.hypot(self.x - x, self.y - y)\n",
    "\n",
    "p = Point(2, 3)\n",
    "d = getattr(p, 'distance')(0, 0) # Calls p.distance(0, 0)\n",
    "print(d)\n",
    "\n",
    "import operator \n",
    "print(operator.methodcaller('distance', 0, 0)(p))\n",
    "\n",
    "\n",
    "points = [\n",
    "    Point(1, 2),\n",
    "    Point(3, 0),\n",
    "    Point(10, -3),\n",
    "    Point(-5, -7),\n",
    "    Point(-1, 8),\n",
    "    Point(3, 2)\n",
    "]\n",
    "\n",
    "# Sort by distance from origin (0, 0)\n",
    "points.sort(key=operator.methodcaller('distance', 0, 0))\n",
    "print(points)\n",
    "\n"
   ]
  },
  {
   "cell_type": "code",
   "execution_count": 312,
   "metadata": {},
   "outputs": [
    {
     "name": "stdout",
     "output_type": "stream",
     "text": [
      "0.6\n",
      "[('PUSH', 1), ('PUSH', 2), ('PUSH', 3), ('PUSH', 4), ('SUB',), ('MUL',), ('PUSH', 5), ('DIV',), ('ADD',)]\n"
     ]
    }
   ],
   "source": [
    "# 访问者模式\n",
    "\n",
    "class Node: pass\n",
    "class UnaryOperator(Node):\n",
    "    def __init__(self, operand):\n",
    "        self.operand = operand\n",
    "class BinaryOperator(Node):\n",
    "    def __init__(self, left, right):\n",
    "        self.left = left\n",
    "        self.right = right\n",
    "class Add(BinaryOperator): pass\n",
    "class Sub(BinaryOperator): pass\n",
    "class Mul(BinaryOperator): pass\n",
    "class Div(BinaryOperator): pass\n",
    "class Negate(UnaryOperator):\n",
    "    pass\n",
    "class Number(Node):\n",
    "    def __init__(self, value):\n",
    "        self.value = value\n",
    "\n",
    "class NodeVisitor:\n",
    "    def visit(self, node):\n",
    "        methname = 'visit_' + type(node).__name__ \n",
    "        meth = getattr(self, methname, None)\n",
    "        if meth is None:\n",
    "            meth = self.generic_visit \n",
    "        return meth(node)\n",
    "    \n",
    "    def generic_visit(self, node):\n",
    "        raise RuntimeError('No {} method'.format('visit_' + type(node).__name__))\n",
    "\n",
    "class Evaluator(NodeVisitor): \n",
    "    def visit_Number(self, node):\n",
    "        return node.value\n",
    "    def visit_Add(self, node):\n",
    "        return self.visit(node.left) + self.visit(node.right) \n",
    "    def visit_Sub(self, node):\n",
    "        return self.visit(node.left) - self.visit(node.right) \n",
    "    def visit_Mul(self, node):\n",
    "        return self.visit(node.left) * self.visit(node.right)\n",
    "    def visit_Div(self, node):\n",
    "        return self.visit(node.left) / self.visit(node.right)\n",
    "    def visit_Negate(self, node): \n",
    "        return -node.operand\n",
    "\n",
    "class Evaluator2(NodeVisitor):    # 可处理大深度的递归\n",
    "    def visit_Number(self, node):\n",
    "        return node.value\n",
    "    def visit_Add(self, node):\n",
    "        yield (yield node.left) +  (yield node.right) \n",
    "    def visit_Sub(self, node):\n",
    "        yield (yield node.left) - (yield node.right) \n",
    "    def visit_Mul(self, node):\n",
    "        yield (yield node.left) * (yield node.right)\n",
    "    def visit_Div(self, node):\n",
    "        yield (yield node.left) / (yield node.right)\n",
    "    def visit_Negate(self, node): \n",
    "        yield -(yield node.operand)\n",
    "    \n",
    "# Representation of 1 + 2 * (3 - 4) / 5\n",
    "t1 = Sub(Number(3), Number(4))\n",
    "t2 = Mul(Number(2), t1)\n",
    "t3 = Div(t2, Number(5))\n",
    "t4 = Add(Number(1), t3)\n",
    "\n",
    "e = Evaluator()\n",
    "print(e.visit(t4))\n",
    "\n",
    "\n",
    "\n",
    "class StackCode(NodeVisitor):\n",
    "    def generate_code(self, node):\n",
    "        self.instructions = [] \n",
    "        self.visit(node)\n",
    "        return self.instructions\n",
    "    def visit_Number(self, node):\n",
    "        self.instructions.append(('PUSH', node.value))\n",
    "    def binop(self, node, instruction):\n",
    "        self.visit(node.left) \n",
    "        self.visit(node.right)\n",
    "        self.instructions.append((instruction,))\n",
    "    def visit_Add(self, node):\n",
    "        self.binop(node, 'ADD')\n",
    "    def visit_Sub(self, node):\n",
    "        self.binop(node, 'SUB')\n",
    "    def visit_Mul(self, node):\n",
    "        self.binop(node, 'MUL')\n",
    "    def visit_Div(self, node):\n",
    "        self.binop(node, 'DIV')\n",
    "    def unaryop(self, node, instruction): \n",
    "        self.visit(node.operand)\n",
    "        self.instructions.append((instruction,))\n",
    "    def visit_Negate(self, node): \n",
    "        self.unaryop(node, 'NEG')\n",
    "    \n",
    "s = StackCode()\n",
    "print(s.generate_code(t4))\n",
    "\n"
   ]
  },
  {
   "cell_type": "code",
   "execution_count": 329,
   "metadata": {},
   "outputs": [
    {
     "name": "stderr",
     "output_type": "stream",
     "text": [
      "spam\n",
      "add\n",
      "add\n"
     ]
    },
    {
     "name": "stdout",
     "output_type": "stream",
     "text": [
      "7\n",
      "Spam!\n",
      "7\n",
      "7\n"
     ]
    }
   ],
   "source": [
    "# 带可选参数的装饰器\n",
    "\n",
    "from functools import wraps, partial\n",
    "import logging\n",
    "\n",
    "def logged(func=None, *, level=logging.DEBUG, name=None, message=None):\n",
    "    if func is None:\n",
    "        return partial(logged, level=level, name=name, message=message)\n",
    "    \n",
    "    logname = name if name else func.__module__\n",
    "    log = logging.getLogger(logname)\n",
    "    logmsg = message if message else func.__name__\n",
    "    \n",
    "    @wraps(func)\n",
    "    def wrapper(*args, **kwargs):\n",
    "        log.log(level, logmsg)\n",
    "        return func(*args, **kwargs)\n",
    "    \n",
    "    return wrapper\n",
    "\n",
    "# add = logged()(add)\n",
    "@logged\n",
    "def add(x, y):\n",
    "    return x+y\n",
    "\n",
    "# spam = logged(level=logging.CRITICAL, name='example')(spam)\n",
    "@logged(level=logging.CRITICAL, name='example')\n",
    "def spam():\n",
    "    print('Spam!')\n",
    "    \n",
    "a = add(3,4)\n",
    "print(a)\n",
    "\n",
    "spam()\n",
    "\n",
    "aadd = logged(add, level=logging.CRITICAL)\n",
    "print(aadd(3,4))\n",
    "\n",
    "badd = logged(level=logging.CRITICAL)(add)\n",
    "print(badd(3,4))\n"
   ]
  },
  {
   "cell_type": "code",
   "execution_count": 334,
   "metadata": {},
   "outputs": [
    {
     "name": "stdout",
     "output_type": "stream",
     "text": [
      "5\n",
      "1 h 2\n"
     ]
    }
   ],
   "source": [
    "# 装饰器实现类型检查\n",
    "\n",
    "from inspect import signature\n",
    "from functools import wraps\n",
    "\n",
    "def typeassert(*ty_args, **ty_kwargs):\n",
    "    def decorate(func):\n",
    "        # If in optimized mode, disable type checking\n",
    "        if not __debug__:\n",
    "            return func\n",
    "\n",
    "        # Map function argument names to supplied types\n",
    "        sig = signature(func)\n",
    "        bound_types = sig.bind_partial(*ty_args, **ty_kwargs).arguments\n",
    "\n",
    "        @wraps(func)\n",
    "        def wrapper(*args, **kwargs):\n",
    "            bound_values = sig.bind(*args, **kwargs)\n",
    "            # Enforce type assertions across supplied arguments\n",
    "            for name, value in bound_values.arguments.items():\n",
    "                if name in bound_types:\n",
    "                    if not isinstance(value, bound_types[name]):\n",
    "                        raise TypeError(\n",
    "                            'Argument {} must be {}'.format(name, bound_types[name])\n",
    "                            )\n",
    "            return func(*args, **kwargs)\n",
    "        return wrapper\n",
    "    return decorate\n",
    "\n",
    "\n",
    "@typeassert(int, int)\n",
    "def add(x,y):\n",
    "    return x+y\n",
    "\n",
    "print(add(2,3))\n",
    "\n",
    "@typeassert(int, z=int)\n",
    "def spam(x,y,z=42):\n",
    "    print(x,y,z)\n",
    "    \n",
    "spam(1,'h', 2)\n",
    "\n"
   ]
  },
  {
   "cell_type": "code",
   "execution_count": 338,
   "metadata": {},
   "outputs": [
    {
     "name": "stdout",
     "output_type": "stream",
     "text": [
      "Creating Spam\n",
      "True\n",
      "Creating Spam('Guido')\n",
      "Creating Spam('Diana')\n",
      "True\n"
     ]
    }
   ],
   "source": [
    "# 元类\n",
    "\n",
    "# 单例模式\n",
    "class Singleton(type):\n",
    "    def __init__(self, *args, **kwargs):\n",
    "        self.__instance = None\n",
    "        super().__init__(*args, **kwargs)\n",
    "\n",
    "    def __call__(self, *args, **kwargs):\n",
    "        if self.__instance is None:\n",
    "            self.__instance = super().__call__(*args, **kwargs)\n",
    "            return self.__instance\n",
    "        else:\n",
    "            return self.__instance\n",
    "\n",
    "# Example\n",
    "class Spam(metaclass=Singleton):\n",
    "    def __init__(self):\n",
    "        print('Creating Spam')\n",
    "\n",
    "a = Spam()\n",
    "b = Spam()\n",
    "print(a is b)\n",
    "\n",
    "\n",
    "# 缓存实例\n",
    "import weakref\n",
    "\n",
    "class Cached(type):\n",
    "    def __init__(self, *args, **kwargs):\n",
    "        super().__init__(*args, **kwargs)\n",
    "        self.__cache = weakref.WeakValueDictionary()\n",
    "\n",
    "    def __call__(self, *args):\n",
    "        if args in self.__cache:\n",
    "            return self.__cache[args]\n",
    "        else:\n",
    "            obj = super().__call__(*args)\n",
    "            self.__cache[args] = obj\n",
    "            return obj\n",
    "\n",
    "# Example\n",
    "class Spam2(metaclass=Cached):\n",
    "    def __init__(self, name):\n",
    "        print('Creating Spam({!r})'.format(name))\n",
    "        self.name = name\n",
    "        \n",
    "a = Spam2('Guido')\n",
    "b = Spam2('Diana')\n",
    "\n",
    "c = Spam2('Guido')\n",
    "\n",
    "print(a is c)"
   ]
  },
  {
   "cell_type": "markdown",
   "metadata": {},
   "source": [
    "## 模块与包"
   ]
  },
  {
   "cell_type": "code",
   "execution_count": 340,
   "metadata": {
    "collapsed": true
   },
   "outputs": [],
   "source": [
    "# 包的导入\n",
    "\n",
    "# 如果你执行了语句 import graphics，文件 graphics/__init__.py 将被导入, 建立 graphics 命名空间的内容。 \n",
    "# 像 import graphics.format.jpg 这样导入，文件 graphics/__init__.py 和\n",
    "# 文件 graphics/ formats/__init__.py 将在文件 graphics/formats/jpg.py 导入之前导入\n",
    "\n",
    "# 绝大部分时候让 __init__.py 空着就好\n"
   ]
  },
  {
   "cell_type": "code",
   "execution_count": 341,
   "metadata": {},
   "outputs": [
    {
     "name": "stdout",
     "output_type": "stream",
     "text": [
      "0.9092974268256817\n"
     ]
    }
   ],
   "source": [
    "# 通过字符串名导入模块\n",
    "\n",
    "import importlib\n",
    "math = importlib.import_module('math')\n",
    "\n",
    "print(math.sin(2))"
   ]
  }
 ],
 "metadata": {
  "kernelspec": {
   "display_name": "Python 3",
   "language": "python",
   "name": "python3"
  },
  "language_info": {
   "codemirror_mode": {
    "name": "ipython",
    "version": 3
   },
   "file_extension": ".py",
   "mimetype": "text/x-python",
   "name": "python",
   "nbconvert_exporter": "python",
   "pygments_lexer": "ipython3",
   "version": "3.6.2"
  }
 },
 "nbformat": 4,
 "nbformat_minor": 2
}
